{
 "cells": [
  {
   "cell_type": "markdown",
   "id": "bd94d389",
   "metadata": {},
   "source": [
    "## Hugging Face Transformer"
   ]
  },
  {
   "cell_type": "code",
   "execution_count": 9,
   "id": "1ebf8065",
   "metadata": {},
   "outputs": [],
   "source": [
    "from transformers import pipeline"
   ]
  },
  {
   "cell_type": "code",
   "execution_count": 10,
   "id": "3fe41631",
   "metadata": {},
   "outputs": [],
   "source": [
    "# get input from dataset\n",
    "\n",
    "src_file = \"./dataset/multi_news/test.truncate.fix.pun.src.txt\"\n",
    "with open(src_file, \"r+\", encoding=\"utf8\") as f:\n",
    "    s = f.readlines()\n",
    "\n",
    "input = s[:20]\n",
    "\n",
    "out_file = \"./dataset/multi_news/test.txt.tgt.tokenized.fixed.cleaned.final.truncated.txt\"\n",
    "with open(out_file, \"r+\", encoding=\"utf8\") as f:\n",
    "    s = f.readlines()\n",
    "\n",
    "output = s[:20]"
   ]
  },
  {
   "cell_type": "code",
   "execution_count": 11,
   "id": "269a8179",
   "metadata": {},
   "outputs": [],
   "source": [
    "# preprocessing text (input) data\n",
    "\n",
    "for text in input:\n",
    "    text=text.replace(\"x91\",\"'\")\n",
    "    text=text.replace(\"x92\",\"'\")\n",
    "    \n",
    "for text in output:\n",
    "    text=text.replace(\"x91\",\"'\")\n",
    "    text=text.replace(\"x92\",\"'\")"
   ]
  },
  {
   "cell_type": "code",
   "execution_count": 12,
   "id": "cfff5f0b",
   "metadata": {},
   "outputs": [],
   "source": [
    "from rouge import Rouge\n",
    "\n",
    "def calculate_rouge_score(text, summary):\n",
    "    rouge = Rouge()\n",
    "    scores = rouge.get_scores(summary, text)\n",
    "    rouge_1_recall = scores[0]['rouge-1']['f']\n",
    "    rouge_2_recall = scores[0]['rouge-2']['f']\n",
    "    rouge_l_recall = scores[0]['rouge-l']['f']\n",
    "    return rouge_1_recall, rouge_2_recall, rouge_l_recall"
   ]
  },
  {
   "cell_type": "code",
   "execution_count": 13,
   "id": "c0b5e4be",
   "metadata": {},
   "outputs": [
    {
     "name": "stderr",
     "output_type": "stream",
     "text": [
      "No model was supplied, defaulted to sshleifer/distilbart-cnn-12-6 and revision a4f8f3e (https://huggingface.co/sshleifer/distilbart-cnn-12-6).\n",
      "Using a pipeline without specifying a model name and revision in production is not recommended.\n",
      "Your max_length is set to 300, but you input_length is only 292. You might consider decreasing max_length manually, e.g. summarizer('...', max_length=146)\n"
     ]
    }
   ],
   "source": [
    "summarizer = pipeline(\"summarization\")\n",
    "\n",
    "summaries = []\n",
    "\n",
    "for i in range(0,20):\n",
    "    summaries.append(summarizer(input[i], min_length=75, max_length=300))"
   ]
  },
  {
   "cell_type": "code",
   "execution_count": 18,
   "id": "faa16e08",
   "metadata": {},
   "outputs": [
    {
     "name": "stdout",
     "output_type": "stream",
     "text": [
      "ROGUE Scores for Transformer\n",
      "ROUGE-1: 0.21847450840540458\n",
      "ROUGE-2: 0.05182881463873644\n",
      "ROUGE-L: 0.20048484139315872\n"
     ]
    }
   ],
   "source": [
    "rouge1, rouge2, rougel = 0,0,0\n",
    "\n",
    "for i in range(0,20):\n",
    "    rouge_1_recall, rouge_2_recall, rouge_l_recall = calculate_rouge_score(output[i], summaries[i][0][\"summary_text\"])\n",
    "    rouge1 += rouge_1_recall\n",
    "    rouge2 += rouge_2_recall\n",
    "    rougel += rouge_l_recall\n",
    "\n",
    "print(\"ROGUE Scores for Transformer\")\n",
    "print(\"ROUGE-1:\", rouge1/20)\n",
    "print(\"ROUGE-2:\", rouge2/20)\n",
    "print(\"ROUGE-L:\", rougel/20)\n"
   ]
  },
  {
   "cell_type": "code",
   "execution_count": null,
   "id": "4d04c1e0",
   "metadata": {},
   "outputs": [],
   "source": []
  }
 ],
 "metadata": {
  "kernelspec": {
   "display_name": "Python 3 (ipykernel)",
   "language": "python",
   "name": "python3"
  },
  "language_info": {
   "codemirror_mode": {
    "name": "ipython",
    "version": 3
   },
   "file_extension": ".py",
   "mimetype": "text/x-python",
   "name": "python",
   "nbconvert_exporter": "python",
   "pygments_lexer": "ipython3",
   "version": "3.9.13"
  }
 },
 "nbformat": 4,
 "nbformat_minor": 5
}
